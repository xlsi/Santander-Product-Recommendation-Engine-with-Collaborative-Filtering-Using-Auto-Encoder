{
  "nbformat": 4,
  "nbformat_minor": 0,
  "metadata": {
    "colab": {
      "provenance": [],
      "machine_shape": "hm",
      "gpuType": "A100",
      "toc_visible": true
    },
    "kernelspec": {
      "name": "python3",
      "display_name": "Python 3"
    },
    "language_info": {
      "name": "python"
    },
    "accelerator": "GPU",
    "gpuClass": "standard"
  },
  "cells": [
    {
      "cell_type": "code",
      "source": [
        "from google.colab import drive\n",
        "drive.mount('/content/drive')"
      ],
      "metadata": {
        "colab": {
          "base_uri": "https://localhost:8080/"
        },
        "id": "fWniEYAVr0wQ",
        "outputId": "96bcb2f2-92c2-4c44-9427-b1764de7f7ca"
      },
      "execution_count": null,
      "outputs": [
        {
          "output_type": "stream",
          "name": "stdout",
          "text": [
            "Mounted at /content/drive\n"
          ]
        }
      ]
    },
    {
      "cell_type": "markdown",
      "source": [
        "## **0. Import Packages**"
      ],
      "metadata": {
        "id": "UYdx0MGZoX1Q"
      }
    },
    {
      "cell_type": "code",
      "source": [
        "from typing import List, Tuple\n",
        "\n",
        "import pandas as pd\n",
        "import numpy as np\n",
        "import operator\n",
        "\n",
        "import matplotlib.pyplot as plt\n",
        "\n",
        "import torch\n",
        "import torch.utils.data as data\n",
        "from torch.autograd import Variable\n",
        "import torch.nn as nn\n",
        "import torch.optim as optim\n",
        "from sklearn.model_selection import train_test_split"
      ],
      "metadata": {
        "id": "brRMTImHTCBx"
      },
      "execution_count": null,
      "outputs": []
    },
    {
      "cell_type": "code",
      "source": [
        "seed = 123"
      ],
      "metadata": {
        "id": "LDlCulOXNtQU"
      },
      "execution_count": null,
      "outputs": []
    },
    {
      "cell_type": "markdown",
      "source": [
        "## **1. Data Preparing**"
      ],
      "metadata": {
        "id": "CcPhZsD8s9s7"
      }
    },
    {
      "cell_type": "markdown",
      "source": [
        "### 1.1 Read in Data"
      ],
      "metadata": {
        "id": "bF1huH35tSBv"
      }
    },
    {
      "cell_type": "code",
      "source": [
        "df = pd.read_csv(\"/content/drive/MyDrive/BT5153Applied Machine Learning/Data/train_data_autorec.csv\", index_col = 0)\n",
        "for col in df.columns:\n",
        "  df[col] = df[col].astype(np.int8)\n",
        "df.head()"
      ],
      "metadata": {
        "colab": {
          "base_uri": "https://localhost:8080/",
          "height": 330
        },
        "id": "FEmmTshMUArR",
        "outputId": "e375f68e-7d8a-4fcf-96cc-971d41660ea7"
      },
      "execution_count": null,
      "outputs": [
        {
          "output_type": "execute_result",
          "data": {
            "text/plain": [
              "         Savings_Acct  Guarantees  Cur_Acct  Derivative_Acct  Payroll_Acct  \\\n",
              "Cust_ID                                                                      \n",
              "15889               0           0         6                0             0   \n",
              "15890               0           0         0                0             6   \n",
              "15892               0           0         6                0             0   \n",
              "15893               0           0         0                0             0   \n",
              "15894               0           0         6                0             0   \n",
              "\n",
              "         Junior_Acct  Mas_Particular_Acct  Particular_Acct  \\\n",
              "Cust_ID                                                      \n",
              "15889              0                    0                0   \n",
              "15890              0                    0                0   \n",
              "15892              0                    0                0   \n",
              "15893              0                    0                0   \n",
              "15894              0                    0                0   \n",
              "\n",
              "         Particular_Plus_Acct  Short_Term_Deposits  ...  Mortgage  Pension1  \\\n",
              "Cust_ID                                             ...                       \n",
              "15889                       6                    0  ...         0         0   \n",
              "15890                       6                    0  ...         0         6   \n",
              "15892                       0                    0  ...         0         0   \n",
              "15893                       0                    0  ...         0         0   \n",
              "15894                       0                    0  ...         0         0   \n",
              "\n",
              "         Loans  Taxes  Credit_Card  Securities  Home_Acct  Payroll  Pension2  \\\n",
              "Cust_ID                                                                        \n",
              "15889        0      0            3           6          0        0         0   \n",
              "15890        0      0            6           0          0        6         6   \n",
              "15892        0      6            6           6          0        0         0   \n",
              "15893        0      0            0           6          0        0         0   \n",
              "15894        0      6            6           6          0        6         6   \n",
              "\n",
              "         Direct_Debit  \n",
              "Cust_ID                \n",
              "15889               0  \n",
              "15890               6  \n",
              "15892               6  \n",
              "15893               0  \n",
              "15894               6  \n",
              "\n",
              "[5 rows x 24 columns]"
            ],
            "text/html": [
              "\n",
              "  <div id=\"df-40cda6c1-04c3-49e2-8215-80c4a412258c\">\n",
              "    <div class=\"colab-df-container\">\n",
              "      <div>\n",
              "<style scoped>\n",
              "    .dataframe tbody tr th:only-of-type {\n",
              "        vertical-align: middle;\n",
              "    }\n",
              "\n",
              "    .dataframe tbody tr th {\n",
              "        vertical-align: top;\n",
              "    }\n",
              "\n",
              "    .dataframe thead th {\n",
              "        text-align: right;\n",
              "    }\n",
              "</style>\n",
              "<table border=\"1\" class=\"dataframe\">\n",
              "  <thead>\n",
              "    <tr style=\"text-align: right;\">\n",
              "      <th></th>\n",
              "      <th>Savings_Acct</th>\n",
              "      <th>Guarantees</th>\n",
              "      <th>Cur_Acct</th>\n",
              "      <th>Derivative_Acct</th>\n",
              "      <th>Payroll_Acct</th>\n",
              "      <th>Junior_Acct</th>\n",
              "      <th>Mas_Particular_Acct</th>\n",
              "      <th>Particular_Acct</th>\n",
              "      <th>Particular_Plus_Acct</th>\n",
              "      <th>Short_Term_Deposits</th>\n",
              "      <th>...</th>\n",
              "      <th>Mortgage</th>\n",
              "      <th>Pension1</th>\n",
              "      <th>Loans</th>\n",
              "      <th>Taxes</th>\n",
              "      <th>Credit_Card</th>\n",
              "      <th>Securities</th>\n",
              "      <th>Home_Acct</th>\n",
              "      <th>Payroll</th>\n",
              "      <th>Pension2</th>\n",
              "      <th>Direct_Debit</th>\n",
              "    </tr>\n",
              "    <tr>\n",
              "      <th>Cust_ID</th>\n",
              "      <th></th>\n",
              "      <th></th>\n",
              "      <th></th>\n",
              "      <th></th>\n",
              "      <th></th>\n",
              "      <th></th>\n",
              "      <th></th>\n",
              "      <th></th>\n",
              "      <th></th>\n",
              "      <th></th>\n",
              "      <th></th>\n",
              "      <th></th>\n",
              "      <th></th>\n",
              "      <th></th>\n",
              "      <th></th>\n",
              "      <th></th>\n",
              "      <th></th>\n",
              "      <th></th>\n",
              "      <th></th>\n",
              "      <th></th>\n",
              "      <th></th>\n",
              "    </tr>\n",
              "  </thead>\n",
              "  <tbody>\n",
              "    <tr>\n",
              "      <th>15889</th>\n",
              "      <td>0</td>\n",
              "      <td>0</td>\n",
              "      <td>6</td>\n",
              "      <td>0</td>\n",
              "      <td>0</td>\n",
              "      <td>0</td>\n",
              "      <td>0</td>\n",
              "      <td>0</td>\n",
              "      <td>6</td>\n",
              "      <td>0</td>\n",
              "      <td>...</td>\n",
              "      <td>0</td>\n",
              "      <td>0</td>\n",
              "      <td>0</td>\n",
              "      <td>0</td>\n",
              "      <td>3</td>\n",
              "      <td>6</td>\n",
              "      <td>0</td>\n",
              "      <td>0</td>\n",
              "      <td>0</td>\n",
              "      <td>0</td>\n",
              "    </tr>\n",
              "    <tr>\n",
              "      <th>15890</th>\n",
              "      <td>0</td>\n",
              "      <td>0</td>\n",
              "      <td>0</td>\n",
              "      <td>0</td>\n",
              "      <td>6</td>\n",
              "      <td>0</td>\n",
              "      <td>0</td>\n",
              "      <td>0</td>\n",
              "      <td>6</td>\n",
              "      <td>0</td>\n",
              "      <td>...</td>\n",
              "      <td>0</td>\n",
              "      <td>6</td>\n",
              "      <td>0</td>\n",
              "      <td>0</td>\n",
              "      <td>6</td>\n",
              "      <td>0</td>\n",
              "      <td>0</td>\n",
              "      <td>6</td>\n",
              "      <td>6</td>\n",
              "      <td>6</td>\n",
              "    </tr>\n",
              "    <tr>\n",
              "      <th>15892</th>\n",
              "      <td>0</td>\n",
              "      <td>0</td>\n",
              "      <td>6</td>\n",
              "      <td>0</td>\n",
              "      <td>0</td>\n",
              "      <td>0</td>\n",
              "      <td>0</td>\n",
              "      <td>0</td>\n",
              "      <td>0</td>\n",
              "      <td>0</td>\n",
              "      <td>...</td>\n",
              "      <td>0</td>\n",
              "      <td>0</td>\n",
              "      <td>0</td>\n",
              "      <td>6</td>\n",
              "      <td>6</td>\n",
              "      <td>6</td>\n",
              "      <td>0</td>\n",
              "      <td>0</td>\n",
              "      <td>0</td>\n",
              "      <td>6</td>\n",
              "    </tr>\n",
              "    <tr>\n",
              "      <th>15893</th>\n",
              "      <td>0</td>\n",
              "      <td>0</td>\n",
              "      <td>0</td>\n",
              "      <td>0</td>\n",
              "      <td>0</td>\n",
              "      <td>0</td>\n",
              "      <td>0</td>\n",
              "      <td>0</td>\n",
              "      <td>0</td>\n",
              "      <td>0</td>\n",
              "      <td>...</td>\n",
              "      <td>0</td>\n",
              "      <td>0</td>\n",
              "      <td>0</td>\n",
              "      <td>0</td>\n",
              "      <td>0</td>\n",
              "      <td>6</td>\n",
              "      <td>0</td>\n",
              "      <td>0</td>\n",
              "      <td>0</td>\n",
              "      <td>0</td>\n",
              "    </tr>\n",
              "    <tr>\n",
              "      <th>15894</th>\n",
              "      <td>0</td>\n",
              "      <td>0</td>\n",
              "      <td>6</td>\n",
              "      <td>0</td>\n",
              "      <td>0</td>\n",
              "      <td>0</td>\n",
              "      <td>0</td>\n",
              "      <td>0</td>\n",
              "      <td>0</td>\n",
              "      <td>0</td>\n",
              "      <td>...</td>\n",
              "      <td>0</td>\n",
              "      <td>0</td>\n",
              "      <td>0</td>\n",
              "      <td>6</td>\n",
              "      <td>6</td>\n",
              "      <td>6</td>\n",
              "      <td>0</td>\n",
              "      <td>6</td>\n",
              "      <td>6</td>\n",
              "      <td>6</td>\n",
              "    </tr>\n",
              "  </tbody>\n",
              "</table>\n",
              "<p>5 rows × 24 columns</p>\n",
              "</div>\n",
              "      <button class=\"colab-df-convert\" onclick=\"convertToInteractive('df-40cda6c1-04c3-49e2-8215-80c4a412258c')\"\n",
              "              title=\"Convert this dataframe to an interactive table.\"\n",
              "              style=\"display:none;\">\n",
              "        \n",
              "  <svg xmlns=\"http://www.w3.org/2000/svg\" height=\"24px\"viewBox=\"0 0 24 24\"\n",
              "       width=\"24px\">\n",
              "    <path d=\"M0 0h24v24H0V0z\" fill=\"none\"/>\n",
              "    <path d=\"M18.56 5.44l.94 2.06.94-2.06 2.06-.94-2.06-.94-.94-2.06-.94 2.06-2.06.94zm-11 1L8.5 8.5l.94-2.06 2.06-.94-2.06-.94L8.5 2.5l-.94 2.06-2.06.94zm10 10l.94 2.06.94-2.06 2.06-.94-2.06-.94-.94-2.06-.94 2.06-2.06.94z\"/><path d=\"M17.41 7.96l-1.37-1.37c-.4-.4-.92-.59-1.43-.59-.52 0-1.04.2-1.43.59L10.3 9.45l-7.72 7.72c-.78.78-.78 2.05 0 2.83L4 21.41c.39.39.9.59 1.41.59.51 0 1.02-.2 1.41-.59l7.78-7.78 2.81-2.81c.8-.78.8-2.07 0-2.86zM5.41 20L4 18.59l7.72-7.72 1.47 1.35L5.41 20z\"/>\n",
              "  </svg>\n",
              "      </button>\n",
              "      \n",
              "  <style>\n",
              "    .colab-df-container {\n",
              "      display:flex;\n",
              "      flex-wrap:wrap;\n",
              "      gap: 12px;\n",
              "    }\n",
              "\n",
              "    .colab-df-convert {\n",
              "      background-color: #E8F0FE;\n",
              "      border: none;\n",
              "      border-radius: 50%;\n",
              "      cursor: pointer;\n",
              "      display: none;\n",
              "      fill: #1967D2;\n",
              "      height: 32px;\n",
              "      padding: 0 0 0 0;\n",
              "      width: 32px;\n",
              "    }\n",
              "\n",
              "    .colab-df-convert:hover {\n",
              "      background-color: #E2EBFA;\n",
              "      box-shadow: 0px 1px 2px rgba(60, 64, 67, 0.3), 0px 1px 3px 1px rgba(60, 64, 67, 0.15);\n",
              "      fill: #174EA6;\n",
              "    }\n",
              "\n",
              "    [theme=dark] .colab-df-convert {\n",
              "      background-color: #3B4455;\n",
              "      fill: #D2E3FC;\n",
              "    }\n",
              "\n",
              "    [theme=dark] .colab-df-convert:hover {\n",
              "      background-color: #434B5C;\n",
              "      box-shadow: 0px 1px 3px 1px rgba(0, 0, 0, 0.15);\n",
              "      filter: drop-shadow(0px 1px 2px rgba(0, 0, 0, 0.3));\n",
              "      fill: #FFFFFF;\n",
              "    }\n",
              "  </style>\n",
              "\n",
              "      <script>\n",
              "        const buttonEl =\n",
              "          document.querySelector('#df-40cda6c1-04c3-49e2-8215-80c4a412258c button.colab-df-convert');\n",
              "        buttonEl.style.display =\n",
              "          google.colab.kernel.accessAllowed ? 'block' : 'none';\n",
              "\n",
              "        async function convertToInteractive(key) {\n",
              "          const element = document.querySelector('#df-40cda6c1-04c3-49e2-8215-80c4a412258c');\n",
              "          const dataTable =\n",
              "            await google.colab.kernel.invokeFunction('convertToInteractive',\n",
              "                                                     [key], {});\n",
              "          if (!dataTable) return;\n",
              "\n",
              "          const docLinkHtml = 'Like what you see? Visit the ' +\n",
              "            '<a target=\"_blank\" href=https://colab.research.google.com/notebooks/data_table.ipynb>data table notebook</a>'\n",
              "            + ' to learn more about interactive tables.';\n",
              "          element.innerHTML = '';\n",
              "          dataTable['output_type'] = 'display_data';\n",
              "          await google.colab.output.renderOutput(dataTable, element);\n",
              "          const docLink = document.createElement('div');\n",
              "          docLink.innerHTML = docLinkHtml;\n",
              "          element.appendChild(docLink);\n",
              "        }\n",
              "      </script>\n",
              "    </div>\n",
              "  </div>\n",
              "  "
            ]
          },
          "metadata": {},
          "execution_count": 5
        }
      ]
    },
    {
      "cell_type": "code",
      "source": [
        "df_count = pd.DataFrame(df.astype(bool).sum(axis=1), columns=[\"count of product rates\"])\n",
        "df_count.groupby(['count of product rates']).size()"
      ],
      "metadata": {
        "colab": {
          "base_uri": "https://localhost:8080/"
        },
        "id": "X0PgPdc6nJjB",
        "outputId": "e26eed14-dfb3-4d54-96ec-b518baff751d"
      },
      "execution_count": null,
      "outputs": [
        {
          "output_type": "execute_result",
          "data": {
            "text/plain": [
              "count of product rates\n",
              "1     439350\n",
              "2     123751\n",
              "3      50811\n",
              "4      33537\n",
              "5      22676\n",
              "6      15706\n",
              "7      10627\n",
              "8       5944\n",
              "9       2692\n",
              "10      1061\n",
              "11       381\n",
              "12        87\n",
              "13        26\n",
              "14         2\n",
              "15         1\n",
              "dtype: int64"
            ]
          },
          "metadata": {},
          "execution_count": 6
        }
      ]
    },
    {
      "cell_type": "markdown",
      "source": [
        "### 1.2 Split Train Test"
      ],
      "metadata": {
        "id": "HA88Lg5Gt1VN"
      }
    },
    {
      "cell_type": "code",
      "source": [
        "def preprocess_data(data: pd.DataFrame, test_size: float = 0.1, random_state: int = seed):\n",
        "  num_users = len(data)\n",
        "  num_items = len(data.columns)\n",
        "\n",
        "  train_mat, val_mat = train_test_split(data, test_size=test_size, random_state=random_state)\n",
        "\n",
        "  return train_mat, val_mat, num_users, num_items"
      ],
      "metadata": {
        "id": "lAK7KQRsxnZU"
      },
      "execution_count": null,
      "outputs": []
    },
    {
      "cell_type": "code",
      "source": [
        "train_val, test, _, _ = preprocess_data(df)\n",
        "train, val, num_users, num_items = preprocess_data(train_val)"
      ],
      "metadata": {
        "id": "yNagNgKHWfiD"
      },
      "execution_count": null,
      "outputs": []
    },
    {
      "cell_type": "code",
      "source": [
        "# not all data in test has ground truth label, so we need to filter out the data that has no label, so that we can calculate the Hit Ratio\n",
        "test_label = pd.read_csv(\"/content/drive/MyDrive/BT5153Applied Machine Learning/Data/test_data_ground_truth_autorec.csv\", index_col = 0)\n",
        "test_index = [i for i in test.index if i in test_label.index]\n",
        "test_label = test_label.loc[test_index,:]\n",
        "test = test.loc[test_index, :]"
      ],
      "metadata": {
        "id": "uQcBe2h0yjE2"
      },
      "execution_count": null,
      "outputs": []
    },
    {
      "cell_type": "markdown",
      "source": [
        "### 1.3 Load Data to DataLoader"
      ],
      "metadata": {
        "id": "zv2miz4LvJ1v"
      }
    },
    {
      "cell_type": "code",
      "source": [
        "class AutoRecData(data.Dataset):\n",
        "    r\"\"\"_summary_\n",
        "    Parameters\n",
        "    ----------\n",
        "    data : DataFrame\n",
        "        A two-dimensional list is required.\n",
        "    \"\"\"\n",
        "\n",
        "    def __init__(self, data) -> None:\n",
        "      super(AutoRecData, self).__init__()\n",
        "\n",
        "      self.data_df = data\n",
        "      self.data_np = data.to_numpy()\n",
        "      self.users = data.index\n",
        "      self.items = len(set(self.data_np.nonzero()[1]))\n",
        "\n",
        "    def __len__(self) -> int:\n",
        "      return len(self.data_np)\n",
        "\n",
        "    def __getitem__(self, index) -> None:\n",
        "      return self.data_np[index]\n",
        "    \n",
        "    def get_user(self, user_id):\n",
        "      return self.data_df[self.data_df.index == user_id].values.reshape(self.items,)\n",
        "\n",
        "train_set = AutoRecData(data=train)\n",
        "val_set = AutoRecData(data=val)\n",
        "test_set = AutoRecData(data=test)\n",
        "\n",
        "train_loader = data.DataLoader(\n",
        "        dataset=train_set,\n",
        "        batch_size=256,\n",
        "        shuffle=True,\n",
        "    )\n",
        "val_loader = data.DataLoader(\n",
        "    dataset=val_set, batch_size=256, shuffle=False\n",
        ")\n",
        "\n",
        "test_loader = data.DataLoader(\n",
        "    dataset=test_set, batch_size=256, shuffle=False\n",
        ")"
      ],
      "metadata": {
        "id": "I9AjcPQpXGjV"
      },
      "execution_count": null,
      "outputs": []
    },
    {
      "cell_type": "markdown",
      "source": [
        "## **2. Auto Encoder**"
      ],
      "metadata": {
        "id": "Pwa02abAQdYl"
      }
    },
    {
      "cell_type": "markdown",
      "source": [
        "### 2.1 Define Model and Loss Function"
      ],
      "metadata": {
        "id": "seZkz5gavlXR"
      }
    },
    {
      "cell_type": "code",
      "source": [
        "class AE(nn.Module):\n",
        "  \"\"\"\n",
        "  Auto Encoder (AE) was originally used to learn the representation (encoding) of data. It can be broken down into two parts:\n",
        "\n",
        "  encoder: reduces the dimension size of the data;\n",
        "  decoder: It converts the encoding back to its original form. Due to dimensionality reduction, neural networks need to learn a low-dimensional representation of the input (latent space) in order to be able to reconstruct the input.\n",
        "\n",
        "  They can be used to predict new recommendations. In order to do this, both input and output are vectors (usually the input and output of AE are the same), and we will use a large dropout after the input layer.\n",
        "  This means that the model will have to reconstruct the vector, because some element in the input will be missing, and thus learn to predict the recommendation value given the click vector.\n",
        "  \"\"\"\n",
        "  def __init__(self, nb_products, device=\"cuda:0\"):\n",
        "    super(AE, self).__init__()\n",
        "    self.nb_products = nb_products\n",
        "    self.encoder = nn.Sequential(\n",
        "        nn.Linear(self.nb_products, 512),\n",
        "        nn.Sigmoid(),\n",
        "        nn.Dropout(0.9), # need a large dropout\n",
        "        nn.Linear(512, 80),\n",
        "        nn.Sigmoid(),\n",
        "        nn.Linear(80, 32),\n",
        "        nn.Sigmoid()\n",
        "        )\n",
        "    self.decoder = nn.Sequential(\n",
        "        nn.Linear(32, 80),\n",
        "        nn.Sigmoid(),\n",
        "        nn.Linear(80, 512),\n",
        "        nn.Sigmoid(),\n",
        "        nn.Linear(512, self.nb_products)\n",
        "        )\n",
        "\n",
        "  def forward(self, x):\n",
        "    x = self.encoder(x)\n",
        "    x = self.decoder(x)\n",
        "    return x\n",
        "\n",
        "def loss_func(recon_x, x):\n",
        "  \"\"\"\n",
        "  For a user, he only rated some products, so when calculating MSE, only consider the products he has rated, and ignore the products he has not rated\n",
        "  The calculation principle of MSE here is, for example, the scoring data of 2 users on 5 products is: [[1, 2, 0, 3, 4], [2, 3, 0, 0, 1]]\n",
        "  The scoring data after AE reconstruction is: [[1.1, 2.3, 0, 3.3, 4.7], [2.1, 3.2, 0, 0, 1.2]]\n",
        "  First calculate the square of the 2-norm of the two scoring data, then divide by the number of products scored by each user to get the MSE of each user, and then use torch.mean to average to get the MSE of each batch\n",
        "  \"\"\"\n",
        "  MSE = torch.mean(torch.norm((x - recon_x), p=2, dim=1, keepdim=False)**2/torch.sum(recon_x!=0,axis=1))\n",
        "  return MSE"
      ],
      "metadata": {
        "id": "7iRZB_WJQjAG"
      },
      "execution_count": null,
      "outputs": []
    },
    {
      "cell_type": "markdown",
      "source": [
        "### 2.2 Define Train Function"
      ],
      "metadata": {
        "id": "Y0VhDkYj6ZFN"
      }
    },
    {
      "cell_type": "code",
      "source": [
        "def train(train_loader, dev_loader=None, is_validate=True, device=\"cuda:0\"):\n",
        "  ae.train()\n",
        "  total_loss = 0\n",
        "  for data in train_loader:\n",
        "    data = data.float().to(device)\n",
        "    target = data.clone()\n",
        "    optimizer.zero_grad()\n",
        "    recon_x = ae.forward(data)\n",
        "    # In the optimization process, we only want to consider products that users have rated,\n",
        "    # Although we previously set the ratings of products not rated by users to 0, we also need to set the ratings of products predicted by the model to 0.\n",
        "    # In this way, it will not be added to the loss and affect the weight update\n",
        "    recon_x[target == 0] = 0 \n",
        "    loss = loss_func(recon_x, data)\n",
        "    loss.backward()\n",
        "    total_loss += loss.item()\n",
        "    optimizer.step()\n",
        "    epoch_train_loss = total_loss / len(train_loader)\n",
        "\n",
        "  if (is_validate == True):\n",
        "    ae.eval()\n",
        "    total_loss = 0\n",
        "    with torch.no_grad():\n",
        "      for data in dev_loader:\n",
        "        data = data.float().to(device)\n",
        "        target = data.clone()\n",
        "        recon_x = ae.forward(data)\n",
        "        recon_x[target == 0] = 0\n",
        "        loss = loss_func(recon_x, data)\n",
        "        total_loss += loss.item()\n",
        "        epoch_dev_loss = total_loss / len(dev_loader)\n",
        "    print('====> Epoch: {} Training Average loss: {:.4f}, Validating Average loss: {:.4f}'.format(epoch, epoch_train_loss, epoch_dev_loss))\n",
        "    return epoch_train_loss, epoch_dev_loss\n",
        "\n",
        "  else:\n",
        "    print('====> Epoch: {} Training Average loss: {:.4f}'.format(epoch, epoch_train_loss))\n",
        "    return epoch_train_loss\n",
        "\n",
        "if __name__ == \"__main__\":\n",
        "  device = torch.device(\"cuda:0\" if torch.cuda.is_available() else \"cpu\")\n",
        "  nb_products = len(df.columns)\n",
        "  ae = AE(nb_products = nb_products).to(device)\n",
        "  optimizer =  optim.Adam(ae.parameters(), lr=1e-4, betas=(0.9, 0.999), eps=1e-08, weight_decay=0)\n",
        "  EPOCH = 20\n",
        "  epoches_train_loss = []\n",
        "  epoches_dev_loss = []\n",
        "\n",
        "  print(\"\\n\", 20 * \"=\", \"Training Auto Encoder on device: {}\".format(device), 20 * \"=\")\n",
        "  for epoch in range(1, EPOCH + 1):\n",
        "    epoch_train_loss, epoch_dev_loss = train(train_loader, dev_loader = val_loader)\n",
        "    epoches_train_loss.append(epoch_train_loss)\n",
        "    epoches_dev_loss.append(epoch_dev_loss)"
      ],
      "metadata": {
        "id": "20gF5lg_Qi8d",
        "colab": {
          "base_uri": "https://localhost:8080/"
        },
        "outputId": "02892f2b-6d15-4c22-ce59-6df20f683326"
      },
      "execution_count": null,
      "outputs": [
        {
          "output_type": "stream",
          "name": "stdout",
          "text": [
            "\n",
            " ==================== Training Auto Encoder on device: cuda:0 ====================\n",
            "====> Epoch: 1 Training Average loss: 2.0184, Validating Average loss: 1.0449\n",
            "====> Epoch: 2 Training Average loss: 0.8489, Validating Average loss: 0.6292\n",
            "====> Epoch: 3 Training Average loss: 0.6539, Validating Average loss: 0.6024\n",
            "====> Epoch: 4 Training Average loss: 0.6315, Validating Average loss: 0.5919\n",
            "====> Epoch: 5 Training Average loss: 0.6205, Validating Average loss: 0.5842\n",
            "====> Epoch: 6 Training Average loss: 0.6126, Validating Average loss: 0.5800\n",
            "====> Epoch: 7 Training Average loss: 0.6054, Validating Average loss: 0.5712\n",
            "====> Epoch: 8 Training Average loss: 0.5985, Validating Average loss: 0.5645\n",
            "====> Epoch: 9 Training Average loss: 0.5873, Validating Average loss: 0.5410\n",
            "====> Epoch: 10 Training Average loss: 0.5296, Validating Average loss: 0.4293\n",
            "====> Epoch: 11 Training Average loss: 0.4369, Validating Average loss: 0.3559\n",
            "====> Epoch: 12 Training Average loss: 0.3957, Validating Average loss: 0.3309\n",
            "====> Epoch: 13 Training Average loss: 0.3715, Validating Average loss: 0.3132\n",
            "====> Epoch: 14 Training Average loss: 0.3520, Validating Average loss: 0.2997\n",
            "====> Epoch: 15 Training Average loss: 0.3386, Validating Average loss: 0.2916\n",
            "====> Epoch: 16 Training Average loss: 0.3282, Validating Average loss: 0.2792\n",
            "====> Epoch: 17 Training Average loss: 0.3190, Validating Average loss: 0.2717\n",
            "====> Epoch: 18 Training Average loss: 0.3095, Validating Average loss: 0.2648\n",
            "====> Epoch: 19 Training Average loss: 0.3016, Validating Average loss: 0.2567\n",
            "====> Epoch: 20 Training Average loss: 0.2937, Validating Average loss: 0.2501\n"
          ]
        }
      ]
    },
    {
      "cell_type": "code",
      "source": [
        "# save the training model\n",
        "torch.save(ae.state_dict(), '/content/drive/MyDrive/BT5153Applied Machine Learning/models/AutoEncoder.pkl')"
      ],
      "metadata": {
        "id": "qxDB_-9lWJyy"
      },
      "execution_count": null,
      "outputs": []
    },
    {
      "cell_type": "code",
      "source": [
        "import matplotlib.pyplot as plt\n",
        "plt.figure(figsize = (12,8))\n",
        "plt.plot(np.arange(len(epoches_train_loss)), epoches_train_loss, color='r', label='training loss')\n",
        "plt.plot(np.arange(len(epoches_dev_loss)), epoches_dev_loss, color='b', label='validating loss')\n",
        "plt.xlabel('Steps')\n",
        "plt.ylabel('MSE-loss')\n",
        "plt.legend()"
      ],
      "metadata": {
        "colab": {
          "base_uri": "https://localhost:8080/",
          "height": 714
        },
        "id": "8-uRLvr9WUm7",
        "outputId": "8b9f0eb1-6393-4ca3-ed8f-60d5e57275f5"
      },
      "execution_count": null,
      "outputs": [
        {
          "output_type": "execute_result",
          "data": {
            "text/plain": [
              "<matplotlib.legend.Legend at 0x7f9dec117ee0>"
            ]
          },
          "metadata": {},
          "execution_count": 13
        },
        {
          "output_type": "display_data",
          "data": {
            "text/plain": [
              "<Figure size 1200x800 with 1 Axes>"
            ],
            "image/png": "[encoded data removed]"
          },
          "metadata": {}
        }
      ]
    },
    {
      "cell_type": "markdown",
      "source": [
        "## **3. Variational Auto Encoder**"
      ],
      "metadata": {
        "id": "jAyhS3ofrnS4"
      }
    },
    {
      "cell_type": "markdown",
      "source": [
        "### 3.1 Define Model and Loss Function"
      ],
      "metadata": {
        "id": "7hjEIi3HrsyQ"
      }
    },
    {
      "cell_type": "code",
      "source": [
        "class VAE(nn.Module):\n",
        "\n",
        "  def __init__(self, nb_movies, device=\"cuda:0\"):\n",
        "    super(VAE, self).__init__()\n",
        "    self.nb_movies = nb_movies\n",
        "    self.encoder = nn.Sequential(\n",
        "        nn.Linear(self.nb_movies, 512),\n",
        "        nn.Sigmoid(),\n",
        "        nn.Dropout(0.9), # 需要一个较大的dropout\n",
        "        nn.Linear(512, 80),\n",
        "        nn.Sigmoid()\n",
        "        )\n",
        "    self.fc1 = nn.Linear(80, 32)\n",
        "    self.fc2 = nn.Linear(80, 32)\n",
        "    self.decoder = nn.Sequential(\n",
        "        nn.Linear(32, 80),\n",
        "        nn.Sigmoid(),\n",
        "        nn.Linear(80, 512),\n",
        "        nn.Sigmoid(),\n",
        "        nn.Linear(512, self.nb_movies)\n",
        "        )\n",
        "    \n",
        "  # reparameterize\n",
        "  def reparameterize(self, mu, logvar):\n",
        "    eps = Variable(torch.randn(mu.size(0), mu.size(1))).to(device)\n",
        "    z = mu + eps * torch.exp(logvar/2) \n",
        "    return z\n",
        "\n",
        "  def forward(self, x):\n",
        "    out1, out2 = self.encoder(x), self.encoder(x)\n",
        "    mu = self.fc1(out1)\n",
        "    logvar = self.fc2(out2)\n",
        "    z = self.reparameterize(mu, logvar)\n",
        "    return self.decoder(z), mu, logvar\n",
        "\n",
        "def loss_func(recon_x, x, mu, logvar):\n",
        "  \"\"\"\n",
        "  The loss of VAE consists of two parts:\n",
        "  One part is the mean absolute error between the predicted result and the real result;\n",
        "  The other part is KL-divergence (KL divergence), which is used to measure the difference between the distribution of latent variables and the unit Gaussian distribution.\n",
        "  \"\"\"\n",
        "  MSE = torch.mean(torch.norm((x - recon_x), p=2, dim=1, keepdim=False)**2/torch.sum(recon_x!=0,axis=1))\n",
        "  KLD = -0.5 * torch.sum(1 + logvar - mu.pow(2) - logvar.exp())\n",
        "  return MSE + KLD  "
      ],
      "metadata": {
        "id": "xFL2qQ8rrvdy"
      },
      "execution_count": null,
      "outputs": []
    },
    {
      "cell_type": "markdown",
      "source": [
        "### 3.2 Define Train Function"
      ],
      "metadata": {
        "id": "r7tbCLwxsGPN"
      }
    },
    {
      "cell_type": "code",
      "source": [
        "def train(train_loader, dev_loader=None, is_validate=True, device=\"cuda:0\"):\n",
        "  vae.train()\n",
        "  total_loss = 0\n",
        "  for data in train_loader:\n",
        "    data = data.float().to(device)\n",
        "    target = data.clone()\n",
        "    optimizer.zero_grad()\n",
        "    recon_x, mu, logvar = vae.forward(data)\n",
        "    # In the optimization process, we only want to consider products that users have rated,\n",
        "    # Although we previously set the ratings of products not rated by users to 0, we also need to set the ratings of products predicted by the model to 0.\n",
        "    # In this way, it will not be added to the loss and affect the weight update\n",
        "    recon_x[target == 0] = 0 \n",
        "    loss = loss_func(recon_x, data, mu, logvar)\n",
        "    loss.backward()\n",
        "    total_loss += loss.item()\n",
        "    optimizer.step()\n",
        "    epoch_train_loss = total_loss / len(train_loader)\n",
        "\n",
        "  if (is_validate == True):\n",
        "    vae.eval()\n",
        "    total_loss = 0\n",
        "    with torch.no_grad():\n",
        "      for data in dev_loader:\n",
        "        data = data.float().to(device)\n",
        "        target = data.clone()\n",
        "        recon_x, mu, logvar = vae.forward(data)\n",
        "        recon_x[target == 0] = 0\n",
        "        loss = loss_func(recon_x, data, mu, logvar)\n",
        "        total_loss += loss.item()\n",
        "        epoch_dev_loss = total_loss / len(dev_loader)\n",
        "    print('====> Epoch: {} Training Average loss: {:.4f}, Validating Average loss: {:.4f}'.format(epoch, epoch_train_loss, epoch_dev_loss))\n",
        "    return epoch_train_loss, epoch_dev_loss\n",
        "\n",
        "  else:\n",
        "    print('====> Epoch: {} Training Average loss: {:.4f}'.format(epoch, epoch_train_loss))\n",
        "    return epoch_train_loss\n",
        "\n",
        "if __name__ == \"__main__\":\n",
        "  device = torch.device(\"cuda:0\" if torch.cuda.is_available() else \"cpu\")\n",
        "  nb_products = len(df.columns)\n",
        "  vae = VAE(nb_movies = nb_products).to(device)\n",
        "  optimizer =  optim.Adam(vae.parameters(), lr=1e-4, betas=(0.9, 0.999), eps=1e-08, weight_decay=0)\n",
        "  EPOCH = 20\n",
        "  epoches_train_loss = []\n",
        "  epoches_dev_loss = []\n",
        "\n",
        "  print(\"\\n\", 20 * \"=\", \"Training Auto Encoder on device: {}\".format(device), 20 * \"=\")\n",
        "  for epoch in range(1, EPOCH + 1):\n",
        "    epoch_train_loss, epoch_dev_loss = train(train_loader, dev_loader = val_loader)\n",
        "    epoches_train_loss.append(epoch_train_loss)\n",
        "    epoches_dev_loss.append(epoch_dev_loss)"
      ],
      "metadata": {
        "colab": {
          "base_uri": "https://localhost:8080/"
        },
        "id": "eP-JmuocsKls",
        "outputId": "92e44283-6b1a-4424-80dd-6734935f4289"
      },
      "execution_count": null,
      "outputs": [
        {
          "output_type": "stream",
          "name": "stdout",
          "text": [
            "\n",
            " ==================== Training Auto Encoder on device: cuda:0 ====================\n",
            "====> Epoch: 1 Training Average loss: 15.3541, Validating Average loss: 1.1404\n",
            "====> Epoch: 2 Training Average loss: 1.2575, Validating Average loss: 1.1011\n",
            "====> Epoch: 3 Training Average loss: 1.1378, Validating Average loss: 1.0961\n",
            "====> Epoch: 4 Training Average loss: 1.1188, Validating Average loss: 1.0951\n",
            "====> Epoch: 5 Training Average loss: 1.1142, Validating Average loss: 1.0941\n",
            "====> Epoch: 6 Training Average loss: 1.1126, Validating Average loss: 1.0941\n",
            "====> Epoch: 7 Training Average loss: 1.1124, Validating Average loss: 1.0947\n",
            "====> Epoch: 8 Training Average loss: 1.1121, Validating Average loss: 1.0939\n",
            "====> Epoch: 9 Training Average loss: 1.1119, Validating Average loss: 1.0938\n",
            "====> Epoch: 10 Training Average loss: 1.1120, Validating Average loss: 1.0931\n",
            "====> Epoch: 11 Training Average loss: 1.1120, Validating Average loss: 1.0949\n",
            "====> Epoch: 12 Training Average loss: 1.1121, Validating Average loss: 1.0938\n",
            "====> Epoch: 13 Training Average loss: 1.1119, Validating Average loss: 1.0959\n",
            "====> Epoch: 14 Training Average loss: 1.1118, Validating Average loss: 1.0933\n",
            "====> Epoch: 15 Training Average loss: 1.1120, Validating Average loss: 1.0929\n",
            "====> Epoch: 16 Training Average loss: 1.1118, Validating Average loss: 1.0988\n",
            "====> Epoch: 17 Training Average loss: 1.1118, Validating Average loss: 1.0934\n",
            "====> Epoch: 18 Training Average loss: 1.1117, Validating Average loss: 1.0968\n",
            "====> Epoch: 19 Training Average loss: 1.1118, Validating Average loss: 1.0943\n",
            "====> Epoch: 20 Training Average loss: 1.1118, Validating Average loss: 1.0945\n"
          ]
        }
      ]
    },
    {
      "cell_type": "code",
      "source": [
        "# save the training model\n",
        "torch.save(vae.state_dict(), '/content/drive/MyDrive/BT5153Applied Machine Learning/models/VAE.pkl')"
      ],
      "metadata": {
        "id": "3ZdzLI4DUmfu"
      },
      "execution_count": null,
      "outputs": []
    },
    {
      "cell_type": "code",
      "source": [
        "plt.figure(figsize = (12,8))\n",
        "plt.plot(np.arange(len(epoches_train_loss)), epoches_train_loss, color='r', label='training loss')\n",
        "plt.plot(np.arange(len(epoches_dev_loss)), epoches_dev_loss, color='b', label='validating loss')\n",
        "plt.xlabel('Steps')\n",
        "plt.ylabel('MSE-loss')\n",
        "plt.legend()"
      ],
      "metadata": {
        "colab": {
          "base_uri": "https://localhost:8080/",
          "height": 717
        },
        "id": "LmSBnv1KUsKF",
        "outputId": "d07886a3-556f-441a-b1ec-fda78a44a57e"
      },
      "execution_count": null,
      "outputs": [
        {
          "output_type": "execute_result",
          "data": {
            "text/plain": [
              "<matplotlib.legend.Legend at 0x7f24c6774400>"
            ]
          },
          "metadata": {},
          "execution_count": 16
        },
        {
          "output_type": "display_data",
          "data": {
            "text/plain": [
              "<Figure size 1200x800 with 1 Axes>"
            ],
            "image/png": "[encoded data removed]"
          },
          "metadata": {}
        }
      ]
    },
    {
      "cell_type": "markdown",
      "source": [
        "## **4. Calculate Hit Ratio**"
      ],
      "metadata": {
        "id": "PDK5ZqqqU9y1"
      }
    },
    {
      "cell_type": "markdown",
      "source": [
        "### 4.1 Get predicted label for test"
      ],
      "metadata": {
        "id": "fBgIWTunVw9m"
      }
    },
    {
      "cell_type": "code",
      "source": [
        "device = torch.device(\"cuda:0\" if torch.cuda.is_available() else \"cpu\")\n",
        "ae = AE(nb_products = len(df.columns))\n",
        "ae.load_state_dict(torch.load('/content/drive/MyDrive/BT5153Applied Machine Learning/models/AutoEncoder.pkl'))\n",
        "ae = ae.to(device)\n",
        "ae.eval()\n",
        "recon_list = []\n",
        "with torch.no_grad():\n",
        "  for data in test_loader:\n",
        "    data = data.float().to(device)\n",
        "    recon_x = ae.forward(data)\n",
        "    recon_list += list(np.array(recon_x.cpu()))"
      ],
      "metadata": {
        "id": "8TBPuzWfUyf0"
      },
      "execution_count": null,
      "outputs": []
    },
    {
      "cell_type": "markdown",
      "source": [
        "### 4.2 Recommend unowned products"
      ],
      "metadata": {
        "id": "m0rGLkbLXDS7"
      }
    },
    {
      "cell_type": "code",
      "source": [
        "nb_movies = len(test.columns)\n",
        "nb_recommend = 10\n",
        "recommend_index = []\n",
        "for i, predict_output in enumerate(recon_list):\n",
        "  user_input = np.array(test)[i]\n",
        "  predicted_result = np.vstack([user_input, predict_output])\n",
        "  recommend = np.array(predicted_result)\n",
        "  trian_movie_id = np.array([i for i in range(0, nb_movies)])\n",
        "  recommend = np.row_stack((recommend, trian_movie_id))\n",
        "  recommend = recommend.T\n",
        "  recommend = recommend.tolist()\n",
        "\n",
        "  movie_not_seen = []#delete the rows comtaining the movies that the user had seen\n",
        "  for i in range(len(recommend)):\n",
        "      if recommend[i][0] == 0.0:\n",
        "          movie_not_seen.append(recommend[i])\n",
        "  movie_not_seen = sorted(movie_not_seen, key=operator.itemgetter(1), reverse=True)\n",
        "  recommend_movie = []#create list for recommended movies with the index we created\n",
        "  for i in range(0, nb_recommend):\n",
        "      recommend_movie.append(movie_not_seen[i][2])\n",
        "  recommend_index.append(recommend_movie)"
      ],
      "metadata": {
        "id": "ywAFTJ8PW2Nz"
      },
      "execution_count": null,
      "outputs": []
    },
    {
      "cell_type": "markdown",
      "source": [
        "### 4.3 Get already owned products"
      ],
      "metadata": {
        "id": "hBSmmJaRXJnR"
      }
    },
    {
      "cell_type": "code",
      "source": [
        "def flatten(l):\n",
        "  return [item for sublist in l for item in sublist]\n",
        "\n",
        "def get_alr_owned_prods(np_owned):\n",
        "  alr_owned_list = []\n",
        "  for item in np_owned:\n",
        "    alr_own = np.argwhere(item != 0)\n",
        "    alr_own = flatten(alr_own)\n",
        "    alr_owned_list.append(alr_own)\n",
        "  return alr_owned_list\n",
        "\n",
        "alr_owned_list = get_alr_owned_prods(np.array(test))\n",
        "future_owned_list = get_alr_owned_prods(np.array(test_label))"
      ],
      "metadata": {
        "id": "tKQn9PrOXa2F"
      },
      "execution_count": null,
      "outputs": []
    },
    {
      "cell_type": "markdown",
      "source": [
        "### 4.4 Get new owned prods"
      ],
      "metadata": {
        "id": "YIpKGsaZXqxG"
      }
    },
    {
      "cell_type": "code",
      "source": [
        "def get_new_owned_prods(alr_owned_list, future_owned_list):\n",
        "  new_owned_list = []\n",
        "  for i in range(len(alr_owned_list)):\n",
        "    new_owned_list.append([x for x in future_owned_list[i] if x not in alr_owned_list[i]])\n",
        "  return new_owned_list\n",
        "new_owned_list = get_new_owned_prods(alr_owned_list, future_owned_list)"
      ],
      "metadata": {
        "id": "SvZP5ggaX0_G"
      },
      "execution_count": null,
      "outputs": []
    },
    {
      "cell_type": "markdown",
      "source": [
        "### 4.5 Hit Ratio"
      ],
      "metadata": {
        "id": "6bswJdl3X9Mw"
      }
    },
    {
      "cell_type": "code",
      "source": [
        "index_in_new_and_in_pred = []\n",
        "for i in range(len(new_owned_list)):\n",
        "  index_in_new_and_in_pred.append([x for x in new_owned_list[i] if x in recommend_index[i]])\n",
        "ratio_list = []\n",
        "for i in range(len(new_owned_list)):\n",
        "  if len(new_owned_list[i]) == 0:\n",
        "    ratio_list.append([np.nan])\n",
        "  else:\n",
        "    ratio_list.append([len(index_in_new_and_in_pred[i]) / len(new_owned_list[i])])\n",
        "np.nanmean(flatten(ratio_list))"
      ],
      "metadata": {
        "colab": {
          "base_uri": "https://localhost:8080/"
        },
        "id": "jbHcXaE2YD6T",
        "outputId": "453add7f-b79e-4292-befb-49d14d8dfc71"
      },
      "execution_count": null,
      "outputs": [
        {
          "output_type": "execute_result",
          "data": {
            "text/plain": [
              "0.10418535127055306"
            ]
          },
          "metadata": {},
          "execution_count": 26
        }
      ]
    }
  ]
}