{
  "nbformat": 4,
  "nbformat_minor": 0,
  "metadata": {
    "colab": {
      "provenance": [],
      "machine_shape": "hm"
    },
    "kernelspec": {
      "name": "python3",
      "display_name": "Python 3"
    },
    "language_info": {
      "name": "python"
    },
    "gpuClass": "standard"
  },
  "cells": [
    {
      "cell_type": "code",
      "execution_count": null,
      "metadata": {
        "colab": {
          "base_uri": "https://localhost:8080/"
        },
        "id": "fWc1KMnfgcfP",
        "outputId": "a3449ad4-c088-4055-a66e-1861b1e6afef"
      },
      "outputs": [
        {
          "output_type": "stream",
          "name": "stdout",
          "text": [
            "Drive already mounted at /content/drive; to attempt to forcibly remount, call drive.mount(\"/content/drive\", force_remount=True).\n"
          ]
        }
      ],
      "source": [
        "from google.colab import drive\n",
        "drive.mount('/content/drive')"
      ]
    },
    {
      "cell_type": "markdown",
      "source": [
        "## **0. Import Packages**"
      ],
      "metadata": {
        "id": "oGhmDYVM7Qs6"
      }
    },
    {
      "cell_type": "code",
      "source": [
        "import pandas as pd"
      ],
      "metadata": {
        "id": "irBZfsIvg7fj"
      },
      "execution_count": null,
      "outputs": []
    },
    {
      "cell_type": "markdown",
      "source": [
        "## **1. Read in Data**"
      ],
      "metadata": {
        "id": "zoBD5sPHyYzz"
      }
    },
    {
      "cell_type": "code",
      "source": [
        "name_col = ['ncodpers', 'fecha_dato', 'ind_ahor_fin_ult1','ind_aval_fin_ult1','ind_cco_fin_ult1',\n",
        "           'ind_cder_fin_ult1','ind_cno_fin_ult1','ind_ctju_fin_ult1',\n",
        "           'ind_ctma_fin_ult1','ind_ctop_fin_ult1','ind_ctpp_fin_ult1',\n",
        "           'ind_deco_fin_ult1','ind_deme_fin_ult1','ind_dela_fin_ult1',\n",
        "           'ind_ecue_fin_ult1','ind_fond_fin_ult1','ind_hip_fin_ult1',\n",
        "           'ind_plan_fin_ult1','ind_pres_fin_ult1','ind_reca_fin_ult1',\n",
        "           'ind_tjcr_fin_ult1','ind_valo_fin_ult1','ind_viv_fin_ult1',\n",
        "           'ind_nomina_ult1','ind_nom_pens_ult1','ind_recibo_ult1']\n",
        "\n",
        "reader = pd.read_csv(\"/content/drive/MyDrive/BT5153Applied Machine Learning/Data/train_ver2.csv\",chunksize=1e6, usecols=name_col)\n",
        "df_train = pd.concat([chunk for chunk in reader])\n",
        "\n",
        "df_train.shape"
      ],
      "metadata": {
        "colab": {
          "base_uri": "https://localhost:8080/"
        },
        "id": "f7fKoEYdh6c4",
        "outputId": "1882c025-a35b-4b34-dd1a-d4d4941b305c"
      },
      "execution_count": null,
      "outputs": [
        {
          "output_type": "execute_result",
          "data": {
            "text/plain": [
              "(13647309, 26)"
            ]
          },
          "metadata": {},
          "execution_count": 5
        }
      ]
    },
    {
      "cell_type": "code",
      "source": [
        "df_train.groupby(['fecha_dato']).size()"
      ],
      "metadata": {
        "colab": {
          "base_uri": "https://localhost:8080/"
        },
        "id": "0-63VI3qjbKF",
        "outputId": "82f6ccd3-13ab-4d86-a718-45f412d259d8"
      },
      "execution_count": null,
      "outputs": [
        {
          "output_type": "execute_result",
          "data": {
            "text/plain": [
              "fecha_dato\n",
              "2015-01-28    625457\n",
              "2015-02-28    627394\n",
              "2015-03-28    629209\n",
              "2015-04-28    630367\n",
              "2015-05-28    631957\n",
              "2015-06-28    632110\n",
              "2015-07-28    829817\n",
              "2015-08-28    843201\n",
              "2015-09-28    865440\n",
              "2015-10-28    892251\n",
              "2015-11-28    906109\n",
              "2015-12-28    912021\n",
              "2016-01-28    916269\n",
              "2016-02-28    920904\n",
              "2016-03-28    925076\n",
              "2016-04-28    928274\n",
              "2016-05-28    931453\n",
              "dtype: int64"
            ]
          },
          "metadata": {},
          "execution_count": 6
        }
      ]
    },
    {
      "cell_type": "markdown",
      "source": [
        "## **2. Slice data from 2015-11-28 to 2016-04-28**"
      ],
      "metadata": {
        "id": "XALkBpQCGptr"
      }
    },
    {
      "cell_type": "code",
      "source": [
        "df_slice = df_train[(df_train[\"fecha_dato\"]>=\"2015-11-28\") & (df_train[\"fecha_dato\"]<\"2016-05-28\")]\n",
        "df_slice.groupby(['fecha_dato']).size()"
      ],
      "metadata": {
        "colab": {
          "base_uri": "https://localhost:8080/"
        },
        "id": "MT20Lfx2GpBf",
        "outputId": "5d6af4c3-a9ff-4c4a-9fbe-4fa408f34b4c"
      },
      "execution_count": null,
      "outputs": [
        {
          "output_type": "execute_result",
          "data": {
            "text/plain": [
              "fecha_dato\n",
              "2015-11-28    906109\n",
              "2015-12-28    912021\n",
              "2016-01-28    916269\n",
              "2016-02-28    920904\n",
              "2016-03-28    925076\n",
              "2016-04-28    928274\n",
              "dtype: int64"
            ]
          },
          "metadata": {},
          "execution_count": 7
        }
      ]
    },
    {
      "cell_type": "markdown",
      "source": [
        "## **3. Groupby DateMth and Sum Up**"
      ],
      "metadata": {
        "id": "fsdQVAUSIGuc"
      }
    },
    {
      "cell_type": "code",
      "source": [
        "df_groupby = df_slice.groupby(['ncodpers'], as_index = False).sum(['ind_ahor_fin_ult1','ind_aval_fin_ult1','ind_cco_fin_ult1',\n",
        "           'ind_cder_fin_ult1','ind_cno_fin_ult1','ind_ctju_fin_ult1',\n",
        "           'ind_ctma_fin_ult1','ind_ctop_fin_ult1','ind_ctpp_fin_ult1',\n",
        "           'ind_deco_fin_ult1','ind_deme_fin_ult1','ind_dela_fin_ult1',\n",
        "           'ind_ecue_fin_ult1','ind_fond_fin_ult1','ind_hip_fin_ult1',\n",
        "           'ind_plan_fin_ult1','ind_pres_fin_ult1','ind_reca_fin_ult1',\n",
        "           'ind_tjcr_fin_ult1','ind_valo_fin_ult1','ind_viv_fin_ult1',\n",
        "           'ind_nomina_ult1','ind_nom_pens_ult1','ind_recibo_ult1'])"
      ],
      "metadata": {
        "id": "rIJ2tCkqIGXk"
      },
      "execution_count": null,
      "outputs": []
    },
    {
      "cell_type": "markdown",
      "source": [
        "## **4. Delete Blank Rows**"
      ],
      "metadata": {
        "id": "w9m4VyZ0JAlx"
      }
    },
    {
      "cell_type": "code",
      "source": [
        "len_with_blank = len(df_groupby)\n",
        "df_groupby_without_blank = df_groupby[df_groupby.iloc[:,1:].sum(axis=1) != 0]\n",
        "print(len_with_blank, len(df_groupby_without_blank))"
      ],
      "metadata": {
        "colab": {
          "base_uri": "https://localhost:8080/"
        },
        "id": "-kE57AUhJHnh",
        "outputId": "4874cbda-7c4d-4779-d29e-068723fbb6aa"
      },
      "execution_count": null,
      "outputs": [
        {
          "output_type": "stream",
          "name": "stdout",
          "text": [
            "938442 706652\n"
          ]
        }
      ]
    },
    {
      "cell_type": "markdown",
      "source": [
        "## **5. Check The Distribution**"
      ],
      "metadata": {
        "id": "OsmFmqzrJ4eB"
      }
    },
    {
      "cell_type": "code",
      "source": [
        "df_count = pd.DataFrame(df_groupby_without_blank.iloc[:,1:].astype(bool).sum(axis=1), columns=[\"count of product rates\"])\n",
        "df_count.groupby(['count of product rates']).size()"
      ],
      "metadata": {
        "colab": {
          "base_uri": "https://localhost:8080/"
        },
        "id": "3RyfxwpgH5I7",
        "outputId": "db2ba39d-26d0-4494-914d-7c0251280b0a"
      },
      "execution_count": null,
      "outputs": [
        {
          "output_type": "execute_result",
          "data": {
            "text/plain": [
              "count of product rates\n",
              "1     439350\n",
              "2     123751\n",
              "3      50811\n",
              "4      33537\n",
              "5      22676\n",
              "6      15706\n",
              "7      10627\n",
              "8       5944\n",
              "9       2692\n",
              "10      1061\n",
              "11       381\n",
              "12        87\n",
              "13        26\n",
              "14         2\n",
              "15         1\n",
              "dtype: int64"
            ]
          },
          "metadata": {},
          "execution_count": 14
        }
      ]
    },
    {
      "cell_type": "markdown",
      "source": [
        "## **6. Save**"
      ],
      "metadata": {
        "id": "fHcyA7ZeL3Iq"
      }
    },
    {
      "cell_type": "code",
      "source": [
        "df_groupby_without_blank.columns = ['Cust_ID', 'Savings_Acct', 'Guarantees', 'Cur_Acct', 'Derivative_Acct', 'Payroll_Acct',\n",
        "                'Junior_Acct', 'Mas_Particular_Acct', 'Particular_Acct', 'Particular_Plus_Acct', 'Short_Term_Deposits',\n",
        "                'Med_Term_Deposits', 'Long_Term_Deposits', 'e-Acct', 'Funds', 'Mortgage', 'Pension1', 'Loans',\n",
        "                'Taxes', 'Credit_Card', 'Securities', 'Home_Acct', 'Payroll', 'Pension2', 'Direct_Debit']\n",
        "df_groupby_without_blank.to_csv(\"/content/drive/MyDrive/BT5153Applied Machine Learning/Data/train_data_autorec.csv\", index = False)"
      ],
      "metadata": {
        "id": "UopkodE6H5E2"
      },
      "execution_count": null,
      "outputs": []
    },
    {
      "cell_type": "markdown",
      "source": [
        "## **7. Test Data Ground Truth**\n"
      ],
      "metadata": {
        "id": "KS_fdL3BgDwV"
      }
    },
    {
      "cell_type": "code",
      "source": [
        "df_slice = df_train[(df_train[\"fecha_dato\"]==\"2016-05-28\")]\n",
        "df_test = df_slice[df_slice.iloc[:,2:].sum(axis=1) != 0] # delete blank rows\n",
        "df_test = df_test.iloc[:,1:]\n",
        "df_test.columns = ['Cust_ID', 'Savings_Acct', 'Guarantees', 'Cur_Acct', 'Derivative_Acct', 'Payroll_Acct',\n",
        "                'Junior_Acct', 'Mas_Particular_Acct', 'Particular_Acct', 'Particular_Plus_Acct', 'Short_Term_Deposits',\n",
        "                'Med_Term_Deposits', 'Long_Term_Deposits', 'e-Acct', 'Funds', 'Mortgage', 'Pension1', 'Loans',\n",
        "                'Taxes', 'Credit_Card', 'Securities', 'Home_Acct', 'Payroll', 'Pension2', 'Direct_Debit']\n",
        "df_test.to_csv(\"/content/drive/MyDrive/BT5153Applied Machine Learning/Data/test_data_ground_truth_autorec.csv\", index = False)"
      ],
      "metadata": {
        "id": "S1KlcrXSgOeB"
      },
      "execution_count": null,
      "outputs": []
    }
  ]
}